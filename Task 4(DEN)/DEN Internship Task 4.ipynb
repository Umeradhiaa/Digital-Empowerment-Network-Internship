{
 "cells": [
  {
   "cell_type": "code",
   "execution_count": null,
   "id": "f1fb644e",
   "metadata": {},
   "outputs": [],
   "source": [
    "import pandas as pd\n",
    "import matplotlib.pyplot as plt\n",
    "from sklearn.model_selection import train_test_split\n",
    "from sklearn.preprocessing import StandardScaler, LabelEncoder\n",
    "from sklearn.ensemble import IsolationForest\n",
    "from sklearn.metrics import classification_report, confusion_matrix"
   ]
  },
  {
   "cell_type": "code",
   "execution_count": null,
   "id": "fe8a4e70",
   "metadata": {},
   "outputs": [],
   "source": [
    "data = pd.read_csv('RT_IOT2022.csv')"
   ]
  },
  {
   "cell_type": "code",
   "execution_count": null,
   "id": "218eeb6e",
   "metadata": {},
   "outputs": [],
   "source": [
    "data"
   ]
  },
  {
   "cell_type": "code",
   "execution_count": null,
   "id": "3571ffbd",
   "metadata": {},
   "outputs": [],
   "source": [
    "print(data.info())"
   ]
  },
  {
   "cell_type": "code",
   "execution_count": null,
   "id": "188fcc4d",
   "metadata": {},
   "outputs": [],
   "source": [
    "data.isnull().sum()"
   ]
  },
  {
   "cell_type": "code",
   "execution_count": null,
   "id": "bc9a18f5",
   "metadata": {},
   "outputs": [],
   "source": [
    "le = LabelEncoder()\n",
    "categorical_columns = ['src_ip', 'src_ip_country_code', 'protocol', 'dst_ip', 'rule_names', 'observation_name', 'source.meta', 'source.name', 'detection_types']\n",
    "for col in categorical_columns:\n",
    "    data[col] = le.fit_transform(data[col])"
   ]
  },
  {
   "cell_type": "code",
   "execution_count": null,
   "id": "418325a6",
   "metadata": {},
   "outputs": [],
   "source": [
    "x= data.drop(columns = ['creation_time', 'end_time', 'time'])"
   ]
  },
  {
   "cell_type": "code",
   "execution_count": null,
   "id": "f2c57eb4",
   "metadata": {},
   "outputs": [],
   "source": [
    "x"
   ]
  },
  {
   "cell_type": "code",
   "execution_count": null,
   "id": "246fb92c",
   "metadata": {},
   "outputs": [],
   "source": [
    "x['src_ip_country_code'].plot(kind='hist', bins=20)\n",
    "plt.title('src_ip_country_code')\n",
    "plt.xlabel('Value')\n",
    "plt.ylabel('Frequency')\n",
    "plt.show()"
   ]
  },
  {
   "cell_type": "code",
   "execution_count": null,
   "id": "1472994d",
   "metadata": {},
   "outputs": [],
   "source": [
    "scaler = StandardScaler()\n",
    "X_scaled = scaler.fit_transform(x)"
   ]
  },
  {
   "cell_type": "code",
   "execution_count": null,
   "id": "cc13486f",
   "metadata": {},
   "outputs": [],
   "source": [
    "x_scaled"
   ]
  },
  {
   "cell_type": "code",
   "execution_count": null,
   "id": "26858014",
   "metadata": {},
   "outputs": [],
   "source": [
    "x_train, x_test = train_test_split(x_scaled, test_size=0.2, random_state=42)"
   ]
  },
  {
   "cell_type": "code",
   "execution_count": null,
   "id": "cc5acb7e",
   "metadata": {},
   "outputs": [],
   "source": [
    "model = IsolationForest(contamination=0.1, random_state=42)\n",
    "model.fit(x_train)"
   ]
  },
  {
   "cell_type": "code",
   "execution_count": null,
   "id": "4432cd75",
   "metadata": {},
   "outputs": [],
   "source": [
    "y_pred_test = model.predict(x_test)"
   ]
  },
  {
   "cell_type": "code",
   "execution_count": null,
   "id": "5ac05d40",
   "metadata": {},
   "outputs": [],
   "source": [
    "y_pred_test"
   ]
  },
  {
   "cell_type": "code",
   "execution_count": null,
   "id": "8c4f6ec1",
   "metadata": {},
   "outputs": [],
   "source": [
    "y_pred_test = [1 if x==1 else 0 for x in y_pred_test]"
   ]
  },
  {
   "cell_type": "code",
   "execution_count": null,
   "id": "f1d83d02",
   "metadata": {},
   "outputs": [],
   "source": [
    "y_pred_test"
   ]
  },
  {
   "cell_type": "code",
   "execution_count": null,
   "id": "8b4b57f3",
   "metadata": {},
   "outputs": [],
   "source": [
    "y_test = [1]*len(y_pred_test)"
   ]
  },
  {
   "cell_type": "code",
   "execution_count": null,
   "id": "cfc5379d",
   "metadata": {},
   "outputs": [],
   "source": [
    "y_test"
   ]
  },
  {
   "cell_type": "code",
   "execution_count": null,
   "id": "b76f1222",
   "metadata": {},
   "outputs": [],
   "source": [
    "print('Classification Report:')\n",
    "print(classification_report(y_test, y_pred_test))"
   ]
  },
  {
   "cell_type": "code",
   "execution_count": null,
   "id": "36c0d1ba",
   "metadata": {},
   "outputs": [],
   "source": [
    "conf_matrix = confusion_matrix(y_test, y_pred_test)\n",
    "print('Confusion Matrix:\\n, conf_matrix')"
   ]
  }
 ],
 "metadata": {
  "kernelspec": {
   "display_name": "Python 3 (ipykernel)",
   "language": "python",
   "name": "python3"
  },
  "language_info": {
   "codemirror_mode": {
    "name": "ipython",
    "version": 3
   },
   "file_extension": ".py",
   "mimetype": "text/x-python",
   "name": "python",
   "nbconvert_exporter": "python",
   "pygments_lexer": "ipython3",
   "version": "3.9.7"
  }
 },
 "nbformat": 4,
 "nbformat_minor": 5
}
