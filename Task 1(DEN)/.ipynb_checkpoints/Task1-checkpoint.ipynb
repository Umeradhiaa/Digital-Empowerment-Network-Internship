{
 "cells": [
  {
   "cell_type": "markdown",
   "id": "6121b491-7652-4ce2-8b8b-fdf2ebc74858",
   "metadata": {},
   "source": [
    "# M Umer Farooq"
   ]
  },
  {
   "cell_type": "code",
   "execution_count": null,
   "id": "da43faee-b2ac-4ce1-960e-57172f65adec",
   "metadata": {},
   "outputs": [],
   "source": []
  }
 ],
 "metadata": {
  "kernelspec": {
   "display_name": "Python 3 (ipykernel)",
   "language": "python",
   "name": "python3"
  },
  "language_info": {
   "codemirror_mode": {
    "name": "ipython",
    "version": 3
   },
   "file_extension": ".py",
   "mimetype": "text/x-python",
   "name": "python",
   "nbconvert_exporter": "python",
   "pygments_lexer": "ipython3",
   "version": "3.12.4"
  }
 },
 "nbformat": 4,
 "nbformat_minor": 5
}
